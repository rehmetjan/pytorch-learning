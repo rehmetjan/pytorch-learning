{
 "cells": [
  {
   "cell_type": "code",
   "execution_count": 12,
   "metadata": {},
   "outputs": [
    {
     "name": "stdout",
     "output_type": "stream",
     "text": [
      "   A  B\n",
      "0  1  4\n",
      "1  2  5\n",
      "2  3  6\n",
      "0    1\n",
      "1    2\n",
      "2    3\n",
      "3    4\n",
      "4    5\n",
      "dtype: int64\n",
      "a    1\n",
      "b    2\n",
      "c    3\n",
      "d    4\n",
      "e    5\n",
      "dtype: int64\n",
      "a    1\n",
      "b    2\n",
      "c    3\n",
      "d    4\n",
      "e    5\n",
      "Name: my_series, dtype: int64\n",
      "a    1\n",
      "b    2\n",
      "c    3\n",
      "d    4\n",
      "e    5\n",
      "Name: my_series, dtype: int64\n",
      "a    1\n",
      "b    2\n",
      "c    3\n",
      "d    4\n",
      "e    5\n",
      "Name: my_series, dtype: int64\n",
      "a    1\n",
      "b    2\n",
      "c    3\n",
      "d    4\n",
      "e    5\n",
      "Name: my_series, dtype: int64\n",
      "a    1\n",
      "b    2\n",
      "c    3\n",
      "d    4\n",
      "e    5\n",
      "Name: my_series, dtype: int64\n",
      "a    1\n",
      "b    2\n",
      "c    3\n",
      "d    4\n",
      "e    5\n",
      "Name: my_series, dtype: int64\n",
      "a    1\n",
      "b    2\n",
      "c    3\n",
      "d    4\n",
      "e    5\n",
      "Name: my_series, dtype: int64\n"
     ]
    }
   ],
   "source": [
    "import pandas as pd\n",
    "\n",
    "# panda demo\n",
    "def panda_demo():\n",
    "    # create a pandas dataframe\n",
    "    df = pd.DataFrame({'A': [1, 2, 3], 'B': [4, 5, 6]})\n",
    "    print(df)\n",
    "    # create a pandas series\n",
    "    s = pd.Series([1, 2, 3, 4, 5])\n",
    "    print(s)\n",
    "    # create a pandas series with index\n",
    "    s = pd.Series([1, 2, 3, 4, 5], index=['a', 'b', 'c', 'd', 'e'])\n",
    "    print(s)\n",
    "    # create a pandas series with index and name\n",
    "    s = pd.Series([1, 2, 3, 4, 5], index=['a', 'b', 'c', 'd', 'e'], name='my_series')\n",
    "    print(s)\n",
    "    # create a pandas series with index and name\n",
    "    s = pd.Series([1, 2, 3, 4, 5], index=['a', 'b', 'c', 'd', 'e'], name='my_series')\n",
    "    print(s)\n",
    "    # create a pandas series with index and name\n",
    "    s = pd.Series([1, 2, 3, 4, 5], index=['a', 'b', 'c', 'd', 'e'], name='my_series')\n",
    "    print(s)\n",
    "    # create a pandas series with index and name\n",
    "    s = pd.Series([1, 2, 3, 4, 5], index=['a', 'b', 'c', 'd', 'e'], name='my_series')\n",
    "    print(s)\n",
    "    # create a pandas series with index and name\n",
    "    s = pd.Series([1, 2, 3, 4, 5], index=['a', 'b', 'c', 'd', 'e'], name='my_series')\n",
    "    print(s)\n",
    "    # create a pandas series with index and name\n",
    "    s = pd.Series([1, 2, 3, 4, 5], index=['a', 'b', 'c', 'd', 'e'], name='my_series')\n",
    "    print(s)\n",
    "    # create a pandas series with index and name\n",
    "    s = pd.Series([1, 2, 3, 4, 5], index=['a', 'b', 'c', 'd', 'e'], name='my_series')\n",
    "    print(s)\n",
    "\n",
    "# main\n",
    "if __name__ == '__main__':\n",
    "    panda_demo()"
   ]
  },
  {
   "cell_type": "code",
   "execution_count": 13,
   "metadata": {},
   "outputs": [
    {
     "name": "stdout",
     "output_type": "stream",
     "text": [
      "Hello, World\n"
     ]
    }
   ],
   "source": [
    "# write a function that receive a parameter called \"name\" and print \"Hello, name\"\n",
    "def hello(name):\n",
    "    print(\"Hello, \" + name)\n",
    "\n",
    "# main\n",
    "if __name__ == '__main__':\n",
    "    # call the function\n",
    "    hello(\"World\")\n",
    "    "
   ]
  },
  {
   "cell_type": "code",
   "execution_count": null,
   "metadata": {},
   "outputs": [],
   "source": [
    "# write a function that print 3 unique city name in Xinjiang Uygur Autonomous Region in Uyghurche\n",
    "def print_city():\n",
    "    print(\"Urumqi\")\n",
    "    print(\"Kashgar\")\n",
    "    print(\"Karamay\")"
   ]
  }
 ],
 "metadata": {
  "kernelspec": {
   "display_name": "base",
   "language": "python",
   "name": "python3"
  },
  "language_info": {
   "codemirror_mode": {
    "name": "ipython",
    "version": 3
   },
   "file_extension": ".py",
   "mimetype": "text/x-python",
   "name": "python",
   "nbconvert_exporter": "python",
   "pygments_lexer": "ipython3",
   "version": "3.9.13"
  },
  "orig_nbformat": 4,
  "vscode": {
   "interpreter": {
    "hash": "54ce974d27f4ed3e43962394cb99ee8cc04701971a4fd297ea283ba5ee7288b0"
   }
  }
 },
 "nbformat": 4,
 "nbformat_minor": 2
}
