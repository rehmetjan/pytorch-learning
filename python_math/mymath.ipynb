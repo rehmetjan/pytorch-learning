{
 "cells": [
  {
   "cell_type": "code",
   "execution_count": 38,
   "metadata": {},
   "outputs": [
    {
     "data": {
      "text/plain": [
       "2.718281828459045"
      ]
     },
     "execution_count": 38,
     "metadata": {},
     "output_type": "execute_result"
    }
   ],
   "source": [
    "import math\n",
    "math.e"
   ]
  },
  {
   "attachments": {},
   "cell_type": "markdown",
   "metadata": {},
   "source": [
    "$e=2.718281828459045$\n",
    "\n",
    "`math.exp(2) = `$e^2=$ $2.71828^2$ `= 7.38905609893065`\n",
    "\n",
    "`math.exp(3) = `$2.71828^3$ `= 20.085536923187668`"
   ]
  },
  {
   "cell_type": "code",
   "execution_count": 15,
   "metadata": {},
   "outputs": [
    {
     "name": "stdout",
     "output_type": "stream",
     "text": [
      "math.exp(2) =  7.38905609893065\n",
      "7.3890461584\n",
      "math.exp(3) =  20.085536923187668\n",
      "20.085496391455553\n"
     ]
    }
   ],
   "source": [
    "print(\"math.exp(2) = \", math.exp(2))\n",
    "print(2.71828 * 2.71828)\n",
    "print(\"math.exp(3) = \", math.exp(3))\n",
    "print(2.71828 * 2.71828 * 2.71828)"
   ]
  },
  {
   "attachments": {},
   "cell_type": "markdown",
   "metadata": {},
   "source": [
    "`math.log(2.71828) = ` $e^x$  \n",
    "\n",
    "$2.718282^1$\n"
   ]
  },
  {
   "cell_type": "code",
   "execution_count": 37,
   "metadata": {},
   "outputs": [
    {
     "name": "stdout",
     "output_type": "stream",
     "text": [
      "1.0000066849139877\n",
      "1.0\n",
      "3.0\n"
     ]
    }
   ],
   "source": [
    "print(math.log(2.7183))\n",
    "print(math.log(math.e))\n",
    "print(math.log(20.085536923187668))"
   ]
  },
  {
   "attachments": {},
   "cell_type": "markdown",
   "metadata": {},
   "source": [
    "$e= 2.718282$\n",
    "\n",
    "`math.log(7.38905609893065)` \n",
    "\n",
    "$e^x = 7.38905609893065$\n",
    "\n",
    "$2.718282^x = 7.38905609893065$\n",
    "\n",
    "$2.718282^2 = 7.38905609893065$\n",
    "\n",
    "$x=2$\n"
   ]
  },
  {
   "cell_type": "code",
   "execution_count": 23,
   "metadata": {},
   "outputs": [
    {
     "name": "stdout",
     "output_type": "stream",
     "text": [
      "2.0\n"
     ]
    }
   ],
   "source": [
    "print(math.log(7.38905609893065))"
   ]
  },
  {
   "attachments": {},
   "cell_type": "markdown",
   "metadata": {},
   "source": [
    "$e^x=9$\n",
    "\n",
    "$e^{2.1972245773362196}=9$\n",
    "\n",
    "$2.718281828459045^{2.1972245773362196} = 9$"
   ]
  },
  {
   "cell_type": "code",
   "execution_count": 32,
   "metadata": {},
   "outputs": [
    {
     "name": "stdout",
     "output_type": "stream",
     "text": [
      "2.1972245773362196\n",
      "2.718281828459045\n"
     ]
    }
   ],
   "source": [
    "print(math.log(9))\n",
    "print(math.e)\n"
   ]
  },
  {
   "attachments": {},
   "cell_type": "markdown",
   "metadata": {},
   "source": [
    "`math.log2(8)`\n",
    "\n",
    " $2^x=8$\n",
    "\n",
    " $x=3$"
   ]
  },
  {
   "cell_type": "code",
   "execution_count": 35,
   "metadata": {},
   "outputs": [
    {
     "name": "stdout",
     "output_type": "stream",
     "text": [
      "3.0\n",
      "4.0\n"
     ]
    }
   ],
   "source": [
    "print(math.log2(8))\n",
    "print(math.log2(16))"
   ]
  },
  {
   "attachments": {},
   "cell_type": "markdown",
   "metadata": {},
   "source": [
    "$x^y$ = `math.pow(x, y)`\n",
    "\n",
    "$e^x$ = `math.pow(math.e, x)`"
   ]
  },
  {
   "cell_type": "code",
   "execution_count": 41,
   "metadata": {},
   "outputs": [
    {
     "name": "stdout",
     "output_type": "stream",
     "text": [
      "8.0\n",
      "7.3890560989306495\n"
     ]
    }
   ],
   "source": [
    "print(math.pow(2,3))\n",
    "print(math.pow(math.e, 2))"
   ]
  },
  {
   "attachments": {},
   "cell_type": "markdown",
   "metadata": {},
   "source": [
    "math.log10(100)  = $10^x=100$"
   ]
  },
  {
   "cell_type": "code",
   "execution_count": 44,
   "metadata": {},
   "outputs": [
    {
     "data": {
      "text/plain": [
       "2.0"
      ]
     },
     "execution_count": 44,
     "metadata": {},
     "output_type": "execute_result"
    }
   ],
   "source": [
    "math.log10(100)"
   ]
  },
  {
   "cell_type": "code",
   "execution_count": 46,
   "metadata": {},
   "outputs": [
    {
     "name": "stdout",
     "output_type": "stream",
     "text": [
      "2.772588722239781\n",
      "4.0\n"
     ]
    }
   ],
   "source": [
    "c = math.log(16)\n",
    "print(c)\n",
    "ans = math.exp(0.5 * c)\n",
    "print(ans)"
   ]
  },
  {
   "cell_type": "code",
   "execution_count": 53,
   "metadata": {},
   "outputs": [
    {
     "name": "stdout",
     "output_type": "stream",
     "text": [
      "7.999999999999998\n",
      "8\n",
      "16\n"
     ]
    }
   ],
   "source": [
    "print(math.exp(0.5 * math.log(64)))\n",
    "print(int(64**0.5))\n",
    "print(4**2)\n"
   ]
  },
  {
   "cell_type": "code",
   "execution_count": 54,
   "metadata": {},
   "outputs": [],
   "source": [
    "a = 1\n",
    "b = 2\n",
    "c = a + b\n",
    "b = 3\n"
   ]
  },
  {
   "cell_type": "code",
   "execution_count": 13,
   "metadata": {},
   "outputs": [
    {
     "name": "stdout",
     "output_type": "stream",
     "text": [
      "*args ('x', 1, 3, 'c')\n",
      "**kwargs {}\n",
      "<class 'tuple'> args type\n",
      "<class 'dict'> kwargs type\n",
      "*args ()\n",
      "**kwargs {'a': 1, 'b': 2}\n",
      "<class 'tuple'> args type\n",
      "<class 'dict'> kwargs type\n"
     ]
    }
   ],
   "source": [
    "def test_get_one_value(*args, **kwargs):\n",
    "    print(\"*args\", args)\n",
    "    print(\"**kwargs\", kwargs)\n",
    "    print(type(args), \"args type\")\n",
    "    print(type(kwargs), \"kwargs type\")\n",
    "\n",
    "test_get_one_value('x', 1,3 ,'c')\n",
    "test_get_one_value(a=1, b=2)"
   ]
  },
  {
   "cell_type": "code",
   "execution_count": 14,
   "metadata": {},
   "outputs": [
    {
     "name": "stdout",
     "output_type": "stream",
     "text": [
      "(1, 2, 3, 4, 5)\n",
      "{'a': 1, 'b': 2, 'c': 3, 'd': 4}\n",
      "(1, 2, 3, 4, 5, 1, 2, 3, 4, 5)\n",
      "1\n",
      "*args ((1, 2, 3, 4, 5),)\n",
      "**kwargs {}\n",
      "<class 'tuple'> args type\n",
      "<class 'dict'> kwargs type\n",
      "*args ({'a': 1, 'b': 2, 'c': 3, 'd': 4},)\n",
      "**kwargs {}\n",
      "<class 'tuple'> args type\n",
      "<class 'dict'> kwargs type\n"
     ]
    }
   ],
   "source": [
    "tuple = (1, 2, 3, 4, 5)\n",
    "dict = { 'a': 1, 'b': 2, 'c': 3, 'd': 4}\n",
    "\n",
    "print(tuple)\n",
    "print(dict)\n",
    "\n",
    "print(2 * tuple)\n",
    "print(dict['a'])\n",
    "\n",
    "test_get_one_value(tuple)\n",
    "test_get_one_value(dict)"
   ]
  },
  {
   "cell_type": "code",
   "execution_count": 2,
   "metadata": {},
   "outputs": [
    {
     "name": "stdout",
     "output_type": "stream",
     "text": [
      "Total Hours:  10000.0\n",
      "Total Days:  416.6666666666667\n",
      "Total Months:  13.88888888888889\n"
     ]
    }
   ],
   "source": [
    "earning_rate = 0.38\n",
    "\n",
    "hour_sum = 3800 / earning_rate\n",
    "print(\"Total Hours: \", hour_sum)\n",
    "print(\"Total Days: \", hour_sum / 24)\n",
    "print(\"Total Months: \", hour_sum / 24 / 30)"
   ]
  }
 ],
 "metadata": {
  "kernelspec": {
   "display_name": "base",
   "language": "python",
   "name": "python3"
  },
  "language_info": {
   "codemirror_mode": {
    "name": "ipython",
    "version": 3
   },
   "file_extension": ".py",
   "mimetype": "text/x-python",
   "name": "python",
   "nbconvert_exporter": "python",
   "pygments_lexer": "ipython3",
   "version": "3.9.13 (main, Aug 25 2022, 18:29:29) \n[Clang 12.0.0 ]"
  },
  "orig_nbformat": 4,
  "vscode": {
   "interpreter": {
    "hash": "54ce974d27f4ed3e43962394cb99ee8cc04701971a4fd297ea283ba5ee7288b0"
   }
  }
 },
 "nbformat": 4,
 "nbformat_minor": 2
}
