{
 "cells": [
  {
   "attachments": {},
   "cell_type": "markdown",
   "metadata": {},
   "source": [
    "给你一个非负整数 x ，计算并返回  x  的 算术平方根 。\n",
    "\n",
    "由于返回类型是整数，结果只保留 整数部分 ，小数部分将被 舍去 。\n",
    "\n",
    "注意：不允许使用任何内置指数函数和算符，例如 pow(x, 0.5) 或者 x \\*\\* 0.5 。\n",
    "示例 1：\n",
    "\n",
    "输入：x = 4\n",
    "输出：2\n",
    "示例 2：\n",
    "\n",
    "输入：x = 8\n",
    "输出：2\n",
    "解释：8 的算术平方根是 2.82842..., 由于返回类型是整数，小数部分将被舍去。\n",
    "\n",
    "来源：力扣（LeetCode）\n",
    "链接：https://leetcode.cn/problems/sqrtx\n",
    "著作权归领扣网络所有。商业转载请联系官方授权，非商业转载请注明出处。\n"
   ]
  },
  {
   "attachments": {},
   "cell_type": "markdown",
   "metadata": {},
   "source": [
    "$\\sqrt{x} = x^{\\frac{1}{2}} \n",
    "= (e^{ln_x})^{\\frac{1}{2}} \n",
    "= e^{\\frac{1}{2}ln_x}$\n"
   ]
  },
  {
   "cell_type": "code",
   "execution_count": 1,
   "metadata": {},
   "outputs": [],
   "source": [
    "import math\n",
    "\n",
    "\n",
    "class Solution:\n",
    "    def mySqrt(self, x: int) -> int:\n",
    "        if x == 0:\n",
    "            return 0\n",
    "        ans = int(math.exp(0.5 * math.log(x)))\n",
    "        return ans + 1 if (ans + 1)**2 <= x else ans\n"
   ]
  },
  {
   "cell_type": "code",
   "execution_count": 2,
   "metadata": {},
   "outputs": [
    {
     "name": "stdout",
     "output_type": "stream",
     "text": [
      "2\n",
      "4\n",
      "4\n",
      "2.718281828459045\n"
     ]
    }
   ],
   "source": [
    "s = Solution()\n",
    "print(s.mySqrt(8))\n",
    "print(s.mySqrt(18))\n",
    "print(s.mySqrt(20))\n",
    "print(math.exp(1))"
   ]
  },
  {
   "cell_type": "code",
   "execution_count": 3,
   "metadata": {},
   "outputs": [
    {
     "name": "stdout",
     "output_type": "stream",
     "text": [
      "0.6931471805599453\n",
      "7.389051594961001\n",
      "1.999999389782407\n"
     ]
    }
   ],
   "source": [
    "print(math.log(2))\n",
    "print(2.718281 * 2.718281)\n",
    "math.exp(2.718281)\n",
    "print(math.log(7.38905159))"
   ]
  },
  {
   "cell_type": "code",
   "execution_count": null,
   "metadata": {},
   "outputs": [],
   "source": []
  }
 ],
 "metadata": {
  "kernelspec": {
   "display_name": "base",
   "language": "python",
   "name": "python3"
  },
  "language_info": {
   "codemirror_mode": {
    "name": "ipython",
    "version": 3
   },
   "file_extension": ".py",
   "mimetype": "text/x-python",
   "name": "python",
   "nbconvert_exporter": "python",
   "pygments_lexer": "ipython3",
   "version": "3.9.13"
  },
  "orig_nbformat": 4,
  "vscode": {
   "interpreter": {
    "hash": "54ce974d27f4ed3e43962394cb99ee8cc04701971a4fd297ea283ba5ee7288b0"
   }
  }
 },
 "nbformat": 4,
 "nbformat_minor": 2
}
