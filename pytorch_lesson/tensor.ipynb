{
 "cells": [
  {
   "cell_type": "code",
   "execution_count": 8,
   "metadata": {},
   "outputs": [
    {
     "name": "stdout",
     "output_type": "stream",
     "text": [
      "tensor([[0., 0., 0.],\n",
      "        [0., 0., 0.],\n",
      "        [0., 0., 0.],\n",
      "        [0., 0., 0.],\n",
      "        [0., 0., 0.]])\n",
      "tensor([[0.2095, 0.2687, 0.3848],\n",
      "        [0.1514, 0.3587, 0.7407],\n",
      "        [0.2993, 0.1628, 0.9468],\n",
      "        [0.8656, 0.4709, 0.7448],\n",
      "        [0.9847, 0.4630, 0.2560]])\n",
      "[0. 0. 0. 0. 0.]\n",
      "[ 4 13 28 27 18]\n"
     ]
    }
   ],
   "source": [
    "from __future__ import print_function\n",
    "import torch\n",
    "import numpy as np\n",
    "\n",
    "x = torch.empty(5, 3)\n",
    "print(x)\n",
    "\n",
    "y = torch.rand(5, 3)\n",
    "print(y)\n",
    "\n",
    "z = np.zeros(5)\n",
    "print(z)\n",
    "\n",
    "a = [1, 2, 3]\n",
    "b = [4, 5, 6]\n",
    "\n",
    "c = np.convolve(a, b)\n",
    "print(c)"
   ]
  }
 ],
 "metadata": {
  "kernelspec": {
   "display_name": "base",
   "language": "python",
   "name": "python3"
  },
  "language_info": {
   "codemirror_mode": {
    "name": "ipython",
    "version": 3
   },
   "file_extension": ".py",
   "mimetype": "text/x-python",
   "name": "python",
   "nbconvert_exporter": "python",
   "pygments_lexer": "ipython3",
   "version": "3.9.13"
  },
  "orig_nbformat": 4,
  "vscode": {
   "interpreter": {
    "hash": "54ce974d27f4ed3e43962394cb99ee8cc04701971a4fd297ea283ba5ee7288b0"
   }
  }
 },
 "nbformat": 4,
 "nbformat_minor": 2
}
