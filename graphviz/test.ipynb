{
 "cells": [
  {
   "cell_type": "code",
   "execution_count": 6,
   "metadata": {},
   "outputs": [
    {
     "name": "stdout",
     "output_type": "stream",
     "text": [
      "// My comment\n",
      "digraph {\n",
      "\ta [label=King]\n",
      "\tb [label=Queen]\n",
      "\tc [label=Soldier]\n",
      "\ta -> b\n",
      "\ta -> c\n",
      "\tb -> c [constrain=false]\n",
      "}\n",
      "\n"
     ]
    },
    {
     "data": {
      "text/plain": [
       "'test/output.gv.pdf'"
      ]
     },
     "execution_count": 6,
     "metadata": {},
     "output_type": "execute_result"
    }
   ],
   "source": [
    "from graphviz import Digraph\n",
    "\n",
    "dot = Digraph(comment='My comment')\n",
    "dot.node('a', 'King')\n",
    "dot.node('b', 'Queen')\n",
    "dot.node('c', 'Soldier')\n",
    "\n",
    "dot.edges(['ab', 'ac'])\n",
    "dot.edge('b', 'c', constrain='false')\n",
    "\n",
    "print(dot.source)\n",
    "\n",
    "dot.render('test/output.gv', view=True)\n"
   ]
  }
 ],
 "metadata": {
  "kernelspec": {
   "display_name": "base",
   "language": "python",
   "name": "python3"
  },
  "language_info": {
   "codemirror_mode": {
    "name": "ipython",
    "version": 3
   },
   "file_extension": ".py",
   "mimetype": "text/x-python",
   "name": "python",
   "nbconvert_exporter": "python",
   "pygments_lexer": "ipython3",
   "version": "3.9.13"
  },
  "orig_nbformat": 4,
  "vscode": {
   "interpreter": {
    "hash": "54ce974d27f4ed3e43962394cb99ee8cc04701971a4fd297ea283ba5ee7288b0"
   }
  }
 },
 "nbformat": 4,
 "nbformat_minor": 2
}
