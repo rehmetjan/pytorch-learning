{
 "cells": [
  {
   "cell_type": "code",
   "execution_count": 38,
   "metadata": {},
   "outputs": [
    {
     "data": {
      "text/plain": [
       "2.718281828459045"
      ]
     },
     "execution_count": 38,
     "metadata": {},
     "output_type": "execute_result"
    }
   ],
   "source": [
    "import math\n",
    "math.e"
   ]
  },
  {
   "attachments": {},
   "cell_type": "markdown",
   "metadata": {},
   "source": [
    "$e=2.718281828459045$\n",
    "\n",
    "`math.exp(2) = `$e^2=$ $2.71828^2$ `= 7.38905609893065`\n",
    "\n",
    "`math.exp(3) = `$2.71828^3$ `= 20.085536923187668`"
   ]
  },
  {
   "cell_type": "code",
   "execution_count": 15,
   "metadata": {},
   "outputs": [
    {
     "name": "stdout",
     "output_type": "stream",
     "text": [
      "math.exp(2) =  7.38905609893065\n",
      "7.3890461584\n",
      "math.exp(3) =  20.085536923187668\n",
      "20.085496391455553\n"
     ]
    }
   ],
   "source": [
    "print(\"math.exp(2) = \", math.exp(2))\n",
    "print(2.71828 * 2.71828)\n",
    "print(\"math.exp(3) = \", math.exp(3))\n",
    "print(2.71828 * 2.71828 * 2.71828)"
   ]
  },
  {
   "attachments": {},
   "cell_type": "markdown",
   "metadata": {},
   "source": [
    "`math.log(2.71828) = ` $e^x$  \n",
    "\n",
    "$2.718282^1$\n"
   ]
  },
  {
   "cell_type": "code",
   "execution_count": 37,
   "metadata": {},
   "outputs": [
    {
     "name": "stdout",
     "output_type": "stream",
     "text": [
      "1.0000066849139877\n",
      "1.0\n",
      "3.0\n"
     ]
    }
   ],
   "source": [
    "print(math.log(2.7183))\n",
    "print(math.log(math.e))\n",
    "print(math.log(20.085536923187668))"
   ]
  },
  {
   "attachments": {},
   "cell_type": "markdown",
   "metadata": {},
   "source": [
    "$e= 2.718282$\n",
    "\n",
    "`math.log(7.38905609893065)` \n",
    "\n",
    "$e^x = 7.38905609893065$\n",
    "\n",
    "$2.718282^x = 7.38905609893065$\n",
    "\n",
    "$2.718282^2 = 7.38905609893065$\n",
    "\n",
    "$x=2$\n"
   ]
  },
  {
   "cell_type": "code",
   "execution_count": 23,
   "metadata": {},
   "outputs": [
    {
     "name": "stdout",
     "output_type": "stream",
     "text": [
      "2.0\n"
     ]
    }
   ],
   "source": [
    "print(math.log(7.38905609893065))"
   ]
  },
  {
   "attachments": {},
   "cell_type": "markdown",
   "metadata": {},
   "source": [
    "$e^x=9$\n",
    "\n",
    "$e^{2.1972245773362196}=9$\n",
    "\n",
    "$2.718281828459045^{2.1972245773362196} = 9$"
   ]
  },
  {
   "cell_type": "code",
   "execution_count": 32,
   "metadata": {},
   "outputs": [
    {
     "name": "stdout",
     "output_type": "stream",
     "text": [
      "2.1972245773362196\n",
      "2.718281828459045\n"
     ]
    }
   ],
   "source": [
    "print(math.log(9))\n",
    "print(math.e)\n"
   ]
  },
  {
   "attachments": {},
   "cell_type": "markdown",
   "metadata": {},
   "source": [
    "`math.log2(8)`\n",
    "\n",
    " $2^x=8$\n",
    "\n",
    " $x=3$"
   ]
  },
  {
   "cell_type": "code",
   "execution_count": 35,
   "metadata": {},
   "outputs": [
    {
     "name": "stdout",
     "output_type": "stream",
     "text": [
      "3.0\n",
      "4.0\n"
     ]
    }
   ],
   "source": [
    "print(math.log2(8))\n",
    "print(math.log2(16))"
   ]
  }
 ],
 "metadata": {
  "kernelspec": {
   "display_name": "base",
   "language": "python",
   "name": "python3"
  },
  "language_info": {
   "codemirror_mode": {
    "name": "ipython",
    "version": 3
   },
   "file_extension": ".py",
   "mimetype": "text/x-python",
   "name": "python",
   "nbconvert_exporter": "python",
   "pygments_lexer": "ipython3",
   "version": "3.9.13"
  },
  "orig_nbformat": 4,
  "vscode": {
   "interpreter": {
    "hash": "54ce974d27f4ed3e43962394cb99ee8cc04701971a4fd297ea283ba5ee7288b0"
   }
  }
 },
 "nbformat": 4,
 "nbformat_minor": 2
}
