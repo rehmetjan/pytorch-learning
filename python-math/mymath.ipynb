{
 "cells": [
  {
   "cell_type": "code",
   "execution_count": 38,
   "metadata": {},
   "outputs": [
    {
     "data": {
      "text/plain": [
       "2.718281828459045"
      ]
     },
     "execution_count": 38,
     "metadata": {},
     "output_type": "execute_result"
    }
   ],
   "source": [
    "import math\n",
    "math.e"
   ]
  },
  {
   "attachments": {},
   "cell_type": "markdown",
   "metadata": {},
   "source": [
    "$e=2.718281828459045$\n",
    "\n",
    "`math.exp(2) = `$e^2=$ $2.71828^2$ `= 7.38905609893065`\n",
    "\n",
    "`math.exp(3) = `$2.71828^3$ `= 20.085536923187668`"
   ]
  },
  {
   "cell_type": "code",
   "execution_count": 15,
   "metadata": {},
   "outputs": [
    {
     "name": "stdout",
     "output_type": "stream",
     "text": [
      "math.exp(2) =  7.38905609893065\n",
      "7.3890461584\n",
      "math.exp(3) =  20.085536923187668\n",
      "20.085496391455553\n"
     ]
    }
   ],
   "source": [
    "print(\"math.exp(2) = \", math.exp(2))\n",
    "print(2.71828 * 2.71828)\n",
    "print(\"math.exp(3) = \", math.exp(3))\n",
    "print(2.71828 * 2.71828 * 2.71828)"
   ]
  },
  {
   "attachments": {},
   "cell_type": "markdown",
   "metadata": {},
   "source": [
    "`math.log(2.71828) = ` $e^x$  \n",
    "\n",
    "$2.718282^1$\n"
   ]
  },
  {
   "cell_type": "code",
   "execution_count": 37,
   "metadata": {},
   "outputs": [
    {
     "name": "stdout",
     "output_type": "stream",
     "text": [
      "1.0000066849139877\n",
      "1.0\n",
      "3.0\n"
     ]
    }
   ],
   "source": [
    "print(math.log(2.7183))\n",
    "print(math.log(math.e))\n",
    "print(math.log(20.085536923187668))"
   ]
  },
  {
   "attachments": {},
   "cell_type": "markdown",
   "metadata": {},
   "source": [
    "$e= 2.718282$\n",
    "\n",
    "`math.log(7.38905609893065)` \n",
    "\n",
    "$e^x = 7.38905609893065$\n",
    "\n",
    "$2.718282^x = 7.38905609893065$\n",
    "\n",
    "$2.718282^2 = 7.38905609893065$\n",
    "\n",
    "$x=2$\n"
   ]
  },
  {
   "cell_type": "code",
   "execution_count": 23,
   "metadata": {},
   "outputs": [
    {
     "name": "stdout",
     "output_type": "stream",
     "text": [
      "2.0\n"
     ]
    }
   ],
   "source": [
    "print(math.log(7.38905609893065))"
   ]
  },
  {
   "attachments": {},
   "cell_type": "markdown",
   "metadata": {},
   "source": [
    "$e^x=9$\n",
    "\n",
    "$e^{2.1972245773362196}=9$\n",
    "\n",
    "$2.718281828459045^{2.1972245773362196} = 9$"
   ]
  },
  {
   "cell_type": "code",
   "execution_count": 32,
   "metadata": {},
   "outputs": [
    {
     "name": "stdout",
     "output_type": "stream",
     "text": [
      "2.1972245773362196\n",
      "2.718281828459045\n"
     ]
    }
   ],
   "source": [
    "print(math.log(9))\n",
    "print(math.e)\n"
   ]
  },
  {
   "attachments": {},
   "cell_type": "markdown",
   "metadata": {},
   "source": [
    "`math.log2(8)`\n",
    "\n",
    " $2^x=8$\n",
    "\n",
    " $x=3$"
   ]
  },
  {
   "cell_type": "code",
   "execution_count": 35,
   "metadata": {},
   "outputs": [
    {
     "name": "stdout",
     "output_type": "stream",
     "text": [
      "3.0\n",
      "4.0\n"
     ]
    }
   ],
   "source": [
    "print(math.log2(8))\n",
    "print(math.log2(16))"
   ]
  },
  {
   "attachments": {},
   "cell_type": "markdown",
   "metadata": {},
   "source": [
    "$x^y$ = `math.pow(x, y)`\n",
    "\n",
    "$e^x$ = `math.pow(math.e, x)`"
   ]
  },
  {
   "cell_type": "code",
   "execution_count": 41,
   "metadata": {},
   "outputs": [
    {
     "name": "stdout",
     "output_type": "stream",
     "text": [
      "8.0\n",
      "7.3890560989306495\n"
     ]
    }
   ],
   "source": [
    "print(math.pow(2,3))\n",
    "print(math.pow(math.e, 2))"
   ]
  },
  {
   "attachments": {},
   "cell_type": "markdown",
   "metadata": {},
   "source": [
    "math.log10(100)  = $10^x=100$"
   ]
  },
  {
   "cell_type": "code",
   "execution_count": 44,
   "metadata": {},
   "outputs": [
    {
     "data": {
      "text/plain": [
       "2.0"
      ]
     },
     "execution_count": 44,
     "metadata": {},
     "output_type": "execute_result"
    }
   ],
   "source": [
    "math.log10(100)"
   ]
  },
  {
   "cell_type": "code",
   "execution_count": 46,
   "metadata": {},
   "outputs": [
    {
     "name": "stdout",
     "output_type": "stream",
     "text": [
      "2.772588722239781\n",
      "4.0\n"
     ]
    }
   ],
   "source": [
    "c = math.log(16)\n",
    "print(c)\n",
    "ans = math.exp(0.5 * c)\n",
    "print(ans)"
   ]
  },
  {
   "cell_type": "code",
   "execution_count": 53,
   "metadata": {},
   "outputs": [
    {
     "name": "stdout",
     "output_type": "stream",
     "text": [
      "7.999999999999998\n",
      "8\n",
      "16\n"
     ]
    }
   ],
   "source": [
    "print(math.exp(0.5 * math.log(64)))\n",
    "print(int(64**0.5))\n",
    "print(4**2)\n"
   ]
  },
  {
   "cell_type": "code",
   "execution_count": 54,
   "metadata": {},
   "outputs": [],
   "source": [
    "a = 1\n",
    "b = 2\n",
    "c = a + b\n",
    "b = 3\n"
   ]
  }
 ],
 "metadata": {
  "kernelspec": {
   "display_name": "base",
   "language": "python",
   "name": "python3"
  },
  "language_info": {
   "codemirror_mode": {
    "name": "ipython",
    "version": 3
   },
   "file_extension": ".py",
   "mimetype": "text/x-python",
   "name": "python",
   "nbconvert_exporter": "python",
   "pygments_lexer": "ipython3",
   "version": "3.9.13"
  },
  "orig_nbformat": 4,
  "vscode": {
   "interpreter": {
    "hash": "54ce974d27f4ed3e43962394cb99ee8cc04701971a4fd297ea283ba5ee7288b0"
   }
  }
 },
 "nbformat": 4,
 "nbformat_minor": 2
}
