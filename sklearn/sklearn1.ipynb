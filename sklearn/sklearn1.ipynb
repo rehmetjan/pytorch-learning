{
 "cells": [
  {
   "cell_type": "code",
   "execution_count": 10,
   "metadata": {},
   "outputs": [
    {
     "name": "stdout",
     "output_type": "stream",
     "text": [
      "sklearn Version: 1.0.2\n",
      "graphviz Version: 0.20.1\n",
      "LinearRegression()\n",
      "[0.5 0.5]\n"
     ]
    },
    {
     "data": {
      "text/plain": [
       "0.1363636363636364"
      ]
     },
     "execution_count": 10,
     "metadata": {},
     "output_type": "execute_result"
    }
   ],
   "source": [
    "from sklearn import linear_model\n",
    "from sklearn import __version__\n",
    "import graphviz\n",
    "\n",
    "print(\"sklearn Version: \" + __version__)\n",
    "print(\"graphviz Version: \" + graphviz.__version__)\n",
    "\n",
    "reg = linear_model.LinearRegression()\n",
    "reg.fit([[0, 0], [1, 1], [2, 2]], [0, 1, 2])\n",
    "print(reg)\n",
    "print(reg.coef_)\n",
    "\n",
    "reg = linear_model.Ridge(alpha=.5)\n",
    "reg.fit([[0, 0], [0, 0], [1, 1]], [0, .1, 1])\n",
    "reg.coef_\n",
    "reg.intercept_"
   ]
  }
 ],
 "metadata": {
  "kernelspec": {
   "display_name": "base",
   "language": "python",
   "name": "python3"
  },
  "language_info": {
   "codemirror_mode": {
    "name": "ipython",
    "version": 3
   },
   "file_extension": ".py",
   "mimetype": "text/x-python",
   "name": "python",
   "nbconvert_exporter": "python",
   "pygments_lexer": "ipython3",
   "version": "3.9.13"
  },
  "orig_nbformat": 4,
  "vscode": {
   "interpreter": {
    "hash": "54ce974d27f4ed3e43962394cb99ee8cc04701971a4fd297ea283ba5ee7288b0"
   }
  }
 },
 "nbformat": 4,
 "nbformat_minor": 2
}
