{
 "cells": [
  {
   "cell_type": "code",
   "execution_count": 10,
   "metadata": {},
   "outputs": [],
   "source": [
    "import keras\n",
    "from keras.models import Sequential\n",
    "from keras.layers import Dense\n",
    "\n",
    "network = Sequential()\n",
    "#Hidden Layer#1\n",
    "network.add(Dense(units=6,\n",
    "                  activation='relu',\n",
    "                  kernel_initializer='uniform',\n",
    "                  input_dim=11))\n",
    "\n",
    "#Hidden Layer#2\n",
    "network.add(Dense(units=6,\n",
    "                  activation='relu',\n",
    "                  kernel_initializer='uniform'))\n",
    "\n",
    "#Exit Layer\n",
    "network.add(Dense(units=1,\n",
    "                  activation='sigmoid',\n",
    "                  kernel_initializer='uniform'))\n",
    "\n",
    "from ann_visualizer.visualize import ann_viz\n",
    "\n",
    "ann_viz(network, title=\"\")"
   ]
  }
 ],
 "metadata": {
  "kernelspec": {
   "display_name": "base",
   "language": "python",
   "name": "python3"
  },
  "language_info": {
   "codemirror_mode": {
    "name": "ipython",
    "version": 3
   },
   "file_extension": ".py",
   "mimetype": "text/x-python",
   "name": "python",
   "nbconvert_exporter": "python",
   "pygments_lexer": "ipython3",
   "version": "3.9.13"
  },
  "orig_nbformat": 4,
  "vscode": {
   "interpreter": {
    "hash": "54ce974d27f4ed3e43962394cb99ee8cc04701971a4fd297ea283ba5ee7288b0"
   }
  }
 },
 "nbformat": 4,
 "nbformat_minor": 2
}
